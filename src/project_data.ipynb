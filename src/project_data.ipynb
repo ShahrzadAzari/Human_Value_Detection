{
  "cells": [
    {
      "cell_type": "code",
      "execution_count": null,
      "metadata": {
        "id": "B7tqIGukCnNR"
      },
      "outputs": [],
      "source": [
        "! cd ../data/raw"
      ]
    },
    {
      "cell_type": "code",
      "execution_count": null,
      "metadata": {
        "colab": {
          "base_uri": "https://localhost:8080/"
        },
        "id": "5S3jPFFK-lJv",
        "outputId": "cda49a6b-a334-4b94-eed5-acc54188b010"
      },
      "outputs": [
        {
          "name": "stdout",
          "output_type": "stream",
          "text": [
            "^C\n",
            "^C\n"
          ]
        }
      ],
      "source": [
        "! wget https://zenodo.org/record/7879430/files/arguments-test-nahjalbalagha.tsv?download=1 -o data/raw/arguments-test-nahjalbalagha.tsv\n",
        "! wget https://zenodo.org/record/7879430/files/arguments-test.tsv?download=1 -o arguments-test.tsv\n",
        "! wget https://zenodo.org/record/7879430/files/arguments-training.tsv?download=1 -o arguments-training.tsv\n",
        "! wget https://zenodo.org/record/7879430/files/arguments-validation-zhihu.tsv?download=1 -o arguments-validation-zhihu.tsv\n",
        "! wget https://zenodo.org/record/7879430/files/arguments-validation.tsv?download=1 -o arguments-validation.tsv\n",
        "! wget https://zenodo.org/record/7879430/files/labels-test-nahjalbalagha.tsv?download=1 -o labels-test-nahjalbalagha.tsv\n",
        "! wget https://zenodo.org/record/7879430/files/labels-test-nyt.tsv?download=1 -o labels-test-nyt.tsv\n",
        "! wget https://zenodo.org/record/7879430/files/labels-test.tsv?download=1 -o labels-test.tsv\n",
        "! wget https://zenodo.org/record/7879430/files/labels-training.tsv?download=1 -o labels-training.tsv\n",
        "! wget https://zenodo.org/record/7879430/files/labels-validation-zhihu.tsv?download=1 -o labels-validation-zhihu.tsv\n",
        "! wget https://zenodo.org/record/7879430/files/labels-validation.tsv?download=1 -o labels-validation.tsv\n",
        "! wget https://zenodo.org/record/7879430/files/meta-arguments-a.tsv?download=1 -o meta-arguments-a.tsv\n",
        "! wget https://zenodo.org/record/7879430/files/meta-arguments-c.tsv?download=1 -o meta-arguments-c.tsv\n",
        "! wget https://zenodo.org/record/7879430/files/meta-arguments-d.tsv?download=1 -o meta-arguments-d.tsv\n",
        "! wget https://zenodo.org/record/7879430/files/meta-arguments-e.tsv?download=1 -o meta-arguments-e.tsv\n",
        "! wget https://zenodo.org/record/7879430/files/meta-arguments-f.tsv?download=1 -o meta-arguments-f.tsv\n",
        "! wget https://zenodo.org/record/7879430/files/meta-arguments-g.tsv?download=1 -o meta-arguments-g.tsv\n",
        "! wget https://zenodo.org/record/7879430/files/value-categories.json?download=1 -o value-categories.json"
      ]
    },
    {
      "cell_type": "code",
      "execution_count": null,
      "metadata": {},
      "outputs": [],
      "source": [
        "! cd nyt-downloader\n",
        "! pip3 install -r requirements.txt\n",
        "! spacy download en_core_web_sm\n",
        "! python3 nyt-downloader.py --input-file nyt01-spans.tsv --output-file ../data/raw/arguments-test-nyt.tsv\n",
        "! sha256sum --check arguments-test-nyt.sha256"
      ]
    }
  ],
  "metadata": {
    "colab": {
      "provenance": []
    },
    "kernelspec": {
      "display_name": "Python 3",
      "name": "python3"
    },
    "language_info": {
      "name": "python",
      "version": "3.10.6"
    }
  },
  "nbformat": 4,
  "nbformat_minor": 0
}
