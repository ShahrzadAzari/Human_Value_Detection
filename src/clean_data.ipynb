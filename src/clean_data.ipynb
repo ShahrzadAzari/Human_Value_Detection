{
 "cells": [
  {
   "cell_type": "code",
   "execution_count": null,
   "metadata": {},
   "outputs": [],
   "source": [
    "import pandas as pd"
   ]
  },
  {
   "cell_type": "code",
   "execution_count": null,
   "metadata": {},
   "outputs": [],
   "source": [
    "arguments_training = pd.read_csv(\"../data/raw/arguments-training.tsv\", sep='\\t')\n",
    "labels_training = pd.read_csv(\"../data/raw/labels-training.tsv\", sep='\\t')\n",
    "Output_df = pd.merge(arguments_training, labels_training, on='Argument ID', how='inner')\n",
    "Output_df.to_csv(\"../data/clean/training.tsv\", sep=\"\\t\", header=True, index=False)"
   ]
  },
  {
   "cell_type": "code",
   "execution_count": null,
   "metadata": {},
   "outputs": [],
   "source": [
    "# omit labels if not [Achievement,\tPower: dominance,\tPower: resources]"
   ]
  }
 ],
 "metadata": {
  "language_info": {
   "name": "python"
  },
  "orig_nbformat": 4
 },
 "nbformat": 4,
 "nbformat_minor": 2
}
